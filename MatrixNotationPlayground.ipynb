{
 "cells": [
  {
   "cell_type": "markdown",
   "id": "e0ccd1f9-12de-4443-b879-678d6060d6ea",
   "metadata": {},
   "source": [
    "Claude Q: How can I specify matrix formulas in a Jupyter notebook using sympy so that these matrices can also be used to do calculations and visually represent all temporary step using a mathematical notation when the cell get evaluated?\n",
    "\n"
   ]
  },
  {
   "cell_type": "code",
   "execution_count": 1,
   "id": "82e4cf28-dae2-4a1f-99e9-fb593e894589",
   "metadata": { "tags": [
                    "hide-input",
                  ]
               },
   "outputs": [
    {
     "data": {
      "text/latex": [
       "$\\displaystyle M = \\left[\\begin{matrix}a & b\\\\c & d\\end{matrix}\\right]$"
      ],
      "text/plain": [
       "<IPython.core.display.Math object>"
      ]
     },
     "metadata": {},
     "output_type": "display_data"
    },
    {
     "data": {
      "text/latex": [
       "$\\displaystyle \\det(M) = ad - bc = a d - b c$"
      ],
      "text/plain": [
       "<IPython.core.display.Math object>"
      ]
     },
     "metadata": {},
     "output_type": "display_data"
    },
    {
     "data": {
      "text/latex": [
       "$\\displaystyle \\text{Characteristic equation: } a d - b c + \\lambda^{2} + \\lambda \\left(- a - d\\right) = 0$"
      ],
      "text/plain": [
       "<IPython.core.display.Math object>"
      ]
     },
     "metadata": {},
     "output_type": "display_data"
    },
    {
     "data": {
      "text/latex": [
       "$\\displaystyle M^{-1} = \\frac{1}{ad-bc}\\left[\\begin{matrix}\\frac{d}{a d - b c} & - \\frac{b}{a d - b c}\\\\- \\frac{c}{a d - b c} & \\frac{a}{a d - b c}\\end{matrix}\\right]$"
      ],
      "text/plain": [
       "<IPython.core.display.Math object>"
      ]
     },
     "metadata": {},
     "output_type": "display_data"
    },
    {
     "data": {
      "text/latex": [
       "$\\displaystyle \\text{Given: } N = \\left[\\begin{matrix}1 & 2\\\\3 & 4\\end{matrix}\\right]$"
      ],
      "text/plain": [
       "<IPython.core.display.Math object>"
      ]
     },
     "metadata": {},
     "output_type": "display_data"
    },
    {
     "data": {
      "text/latex": [
       "$\\displaystyle M \\times N = \\left[\\begin{matrix}a + 3 b & 2 a + 4 b\\\\c + 3 d & 2 c + 4 d\\end{matrix}\\right]$"
      ],
      "text/plain": [
       "<IPython.core.display.Math object>"
      ]
     },
     "metadata": {},
     "output_type": "display_data"
    }
   ],
   "source": [
    "from sympy import Matrix, symbols, init_printing, latex\n",
    "from IPython.display import display, Math\n",
    "\n",
    "# Enable pretty printing\n",
    "init_printing(use_unicode=True)\n",
    "\n",
    "# Define symbolic variables and matrix\n",
    "a, b, c, d = symbols('a b c d')\n",
    "M = Matrix([[a, b],\n",
    "           [c, d]])\n",
    "\n",
    "# Display original matrix with LaTeX\n",
    "display(Math(f\"M = {latex(M)}\"))\n",
    "\n",
    "# Calculate determinant showing steps\n",
    "det = M.det()\n",
    "display(Math(r\"\\det(M) = ad - bc = \" + latex(det)))\n",
    "\n",
    "# Find eigenvalues showing characteristic equation\n",
    "char_poly = M.charpoly().as_expr()\n",
    "display(Math(r\"\\text{Characteristic equation: } \" + latex(char_poly) + \" = 0\"))\n",
    "\n",
    "# Solve for inverse showing steps\n",
    "inv = M.inv()\n",
    "display(Math(r\"M^{-1} = \\frac{1}{ad-bc}\" + latex(inv)))\n",
    "\n",
    "# If you want to show matrix multiplication steps\n",
    "N = Matrix([[1, 2],\n",
    "           [3, 4]])\n",
    "display(Math(r\"\\text{Given: } N = \" + latex(N)))\n",
    "\n",
    "result = M * N\n",
    "display(Math(r\"M \\times N = \" + latex(result)))"
   ]
  },
  {
   "cell_type": "markdown",
   "id": "062ceb6e-1ae2-49d8-9903-32db2187e699",
   "metadata": {},
   "source": [
    "Remark that: The r prefix before a string in Python creates a \"raw string\" where backslashes (\\) are treated as literal characters rather than escape characters. This is particularly useful when working with LaTeX notation because LaTeX uses many backslashes in its syntax."
   ]
  }
 ],
 "metadata": {
  "kernelspec": {
   "display_name": "Python 3 (ipykernel)",
   "language": "python",
   "name": "python3"
  },
  "language_info": {
   "codemirror_mode": {
    "name": "ipython",
    "version": 3
   },
   "file_extension": ".py",
   "mimetype": "text/x-python",
   "name": "python",
   "nbconvert_exporter": "python",
   "pygments_lexer": "ipython3",
   "version": "3.12.2"
  }
 },
 "nbformat": 4,
 "nbformat_minor": 5
}
