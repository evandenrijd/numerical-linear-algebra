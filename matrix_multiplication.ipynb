{
 "cells": [
  {
   "cell_type": "markdown",
   "id": "0c291bb2-3ede-4150-b63e-f9353ea79f66",
   "metadata": {
    "editable": true,
    "slideshow": {
     "slide_type": ""
    },
    "tags": []
   },
   "source": [
    "# Geometrical lineair transformations as basis for Matrix multiplication"
   ]
  },
  {
   "cell_type": "markdown",
   "id": "159009cb-e6e9-4ead-ad7a-0bef368123b8",
   "metadata": {
    "editable": true,
    "slideshow": {
     "slide_type": ""
    },
    "tags": []
   },
   "source": [
    "The transformed base vectors $\\mathbf{i}$ and $\\mathbf{j}$ make up the transformation matrix"
   ]
  },
  {
   "cell_type": "code",
   "execution_count": 4,
   "id": "b54628a8-7f2a-49b0-af1d-e6463f3c20d9",
   "metadata": {
    "editable": true,
    "jupyter": {
     "source_hidden": true
    },
    "slideshow": {
     "slide_type": ""
    },
    "tags": [
     "hide-input",
     "remove-input"
    ]
   },
   "outputs": [
    {
     "data": {
      "text/latex": [
       "$\\displaystyle \\mathbf{L}.\\mathbf{X} = \\left[\\begin{matrix}a & b\\\\c & d\\end{matrix}\\right].\\left[\\begin{matrix}x\\\\y\\end{matrix}\\right] = x.\\left[\\begin{matrix}a\\\\c\\end{matrix}\\right] + y.\\left[\\begin{matrix}b\\\\d\\end{matrix}\\right] = \\left[\\begin{matrix}a x + b y\\\\c x + d y\\end{matrix}\\right]$"
      ],
      "text/plain": [
       "<IPython.core.display.Math object>"
      ]
     },
     "metadata": {},
     "output_type": "display_data"
    }
   ],
   "source": [
    "from sympy import Matrix, symbols, latex, init_printing\n",
    "from IPython.display import display, Math\n",
    "init_printing(use_unicode=True)\n",
    "\n",
    "# Linear Transformation matrix composed where every column represents the transformed base vectors\n",
    "a, b, c, d = symbols('a b c d')\n",
    "L = Matrix([[a, b], [c, d]])\n",
    "\n",
    "# Arbitrary point in 2-D space that will be transformed to it's new coordinates.\n",
    "x, y = symbols('x y')\n",
    "X = Matrix([[x],[y]])\n",
    "\n",
    "# Columnmatrix notation of the transformed base vectors i and j\n",
    "ti = Matrix([[a],[c]])\n",
    "tj = Matrix([[b],[d]])\n",
    "\n",
    "display(Math(r\"\\mathbf{L}.\\mathbf{X} = \" + latex(L) + r\".\" + latex(X) \n",
    "             + r\" = x.\" + latex(ti) \n",
    "             + r\" + y.\" + latex(tj) \n",
    "             + r\" = \" + latex(L*X)))"
   ]
  },
  {
   "cell_type": "code",
   "execution_count": null,
   "id": "fdc3db34-1a92-43ad-8ffd-a9fd8948944f",
   "metadata": {
    "editable": true,
    "slideshow": {
     "slide_type": ""
    },
    "tags": []
   },
   "outputs": [],
   "source": []
  }
 ],
 "metadata": {
  "kernelspec": {
   "display_name": "Python 3 (ipykernel)",
   "language": "python",
   "name": "python3"
  },
  "language_info": {
   "codemirror_mode": {
    "name": "ipython",
    "version": 3
   },
   "file_extension": ".py",
   "mimetype": "text/x-python",
   "name": "python",
   "nbconvert_exporter": "python",
   "pygments_lexer": "ipython3",
   "version": "3.12.2"
  }
 },
 "nbformat": 4,
 "nbformat_minor": 5
}
